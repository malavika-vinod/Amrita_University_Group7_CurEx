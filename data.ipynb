{
 "cells": [
  {
   "cell_type": "code",
   "execution_count": null,
   "metadata": {},
   "outputs": [],
   "source": []
  },
  {
   "cell_type": "code",
   "execution_count": 1,
   "metadata": {},
   "outputs": [],
   "source": [
    "import numpy as np\n",
    "import pandas as pd\n",
    "import matplotlib.pyplot as plt\n",
    "import seaborn as sns"
   ]
  },
  {
   "cell_type": "code",
   "execution_count": 2,
   "metadata": {},
   "outputs": [
    {
     "name": "stderr",
     "output_type": "stream",
     "text": [
      "C:\\Users\\malav\\AppData\\Local\\Temp\\ipykernel_18860\\1772271467.py:2: FutureWarning: The default value of numeric_only in DataFrame.mean is deprecated. In a future version, it will default to False. In addition, specifying 'numeric_only=None' is deprecated. Select only valid columns or specify the value of numeric_only to silence this warning.\n",
      "  df2012 = df2012.fillna(df2012.mean())\n",
      "C:\\Users\\malav\\AppData\\Local\\Temp\\ipykernel_18860\\1772271467.py:4: FutureWarning: The default value of numeric_only in DataFrame.mean is deprecated. In a future version, it will default to False. In addition, specifying 'numeric_only=None' is deprecated. Select only valid columns or specify the value of numeric_only to silence this warning.\n",
      "  df2013 = df2013.fillna(df2013.mean())\n",
      "C:\\Users\\malav\\AppData\\Local\\Temp\\ipykernel_18860\\1772271467.py:6: FutureWarning: The default value of numeric_only in DataFrame.mean is deprecated. In a future version, it will default to False. In addition, specifying 'numeric_only=None' is deprecated. Select only valid columns or specify the value of numeric_only to silence this warning.\n",
      "  df2014 = df2014.fillna(df2014.mean())\n",
      "C:\\Users\\malav\\AppData\\Local\\Temp\\ipykernel_18860\\1772271467.py:8: FutureWarning: The default value of numeric_only in DataFrame.mean is deprecated. In a future version, it will default to False. In addition, specifying 'numeric_only=None' is deprecated. Select only valid columns or specify the value of numeric_only to silence this warning.\n",
      "  df2015 = df2015.fillna(df2015.mean())\n",
      "C:\\Users\\malav\\AppData\\Local\\Temp\\ipykernel_18860\\1772271467.py:10: FutureWarning: The default value of numeric_only in DataFrame.mean is deprecated. In a future version, it will default to False. In addition, specifying 'numeric_only=None' is deprecated. Select only valid columns or specify the value of numeric_only to silence this warning.\n",
      "  df2016 = df2016.fillna(df2016.mean())\n",
      "C:\\Users\\malav\\AppData\\Local\\Temp\\ipykernel_18860\\1772271467.py:12: FutureWarning: The default value of numeric_only in DataFrame.mean is deprecated. In a future version, it will default to False. In addition, specifying 'numeric_only=None' is deprecated. Select only valid columns or specify the value of numeric_only to silence this warning.\n",
      "  df2017 = df2017.fillna(df2017.mean())\n",
      "C:\\Users\\malav\\AppData\\Local\\Temp\\ipykernel_18860\\1772271467.py:14: FutureWarning: The default value of numeric_only in DataFrame.mean is deprecated. In a future version, it will default to False. In addition, specifying 'numeric_only=None' is deprecated. Select only valid columns or specify the value of numeric_only to silence this warning.\n",
      "  df2018 = df2018.fillna(df2018.mean())\n",
      "C:\\Users\\malav\\AppData\\Local\\Temp\\ipykernel_18860\\1772271467.py:16: FutureWarning: The default value of numeric_only in DataFrame.mean is deprecated. In a future version, it will default to False. In addition, specifying 'numeric_only=None' is deprecated. Select only valid columns or specify the value of numeric_only to silence this warning.\n",
      "  df2019 = df2019.fillna(df2019.mean())\n",
      "C:\\Users\\malav\\AppData\\Local\\Temp\\ipykernel_18860\\1772271467.py:18: FutureWarning: The default value of numeric_only in DataFrame.mean is deprecated. In a future version, it will default to False. In addition, specifying 'numeric_only=None' is deprecated. Select only valid columns or specify the value of numeric_only to silence this warning.\n",
      "  df2020 = df2020.fillna(df2020.mean())\n",
      "C:\\Users\\malav\\AppData\\Local\\Temp\\ipykernel_18860\\1772271467.py:20: FutureWarning: The default value of numeric_only in DataFrame.mean is deprecated. In a future version, it will default to False. In addition, specifying 'numeric_only=None' is deprecated. Select only valid columns or specify the value of numeric_only to silence this warning.\n",
      "  df2021= df2021.fillna(df2021.mean())\n",
      "C:\\Users\\malav\\AppData\\Local\\Temp\\ipykernel_18860\\1772271467.py:22: FutureWarning: The default value of numeric_only in DataFrame.mean is deprecated. In a future version, it will default to False. In addition, specifying 'numeric_only=None' is deprecated. Select only valid columns or specify the value of numeric_only to silence this warning.\n",
      "  df2022 = df2022.fillna(df2022.mean())\n"
     ]
    }
   ],
   "source": [
    "df2012= pd.read_csv(r'C:\\Users\\malav\\OneDrive\\Documents\\internship\\NTRS_GROUP7\\Exchange_Rate_Report_2012.csv')\n",
    "df2012 = df2012.fillna(df2012.mean())\n",
    "df2013= pd.read_csv(r'C:\\Users\\malav\\OneDrive\\Documents\\internship\\NTRS_GROUP7\\Exchange_Rate_Report_2013.csv')\n",
    "df2013 = df2013.fillna(df2013.mean())\n",
    "df2014= pd.read_csv(r'C:\\Users\\malav\\OneDrive\\Documents\\internship\\NTRS_GROUP7\\Exchange_Rate_Report_2014.csv')\n",
    "df2014 = df2014.fillna(df2014.mean())\n",
    "df2015= pd.read_csv(r'C:\\Users\\malav\\OneDrive\\Documents\\internship\\NTRS_GROUP7\\Exchange_Rate_Report_2015.csv')\n",
    "df2015 = df2015.fillna(df2015.mean())\n",
    "df2016= pd.read_csv(r'C:\\Users\\malav\\OneDrive\\Documents\\internship\\NTRS_GROUP7\\Exchange_Rate_Report_2016.csv')\n",
    "df2016 = df2016.fillna(df2016.mean())\n",
    "df2017= pd.read_csv(r'C:\\Users\\malav\\OneDrive\\Documents\\internship\\NTRS_GROUP7\\Exchange_Rate_Report_2017.csv')\n",
    "df2017 = df2017.fillna(df2017.mean())\n",
    "df2018= pd.read_csv(r'C:\\Users\\malav\\OneDrive\\Documents\\internship\\NTRS_GROUP7\\Exchange_Rate_Report_2018.csv')\n",
    "df2018 = df2018.fillna(df2018.mean())\n",
    "df2019= pd.read_csv(r'C:\\Users\\malav\\OneDrive\\Documents\\internship\\NTRS_GROUP7\\Exchange_Rate_Report_2019.csv')\n",
    "df2019 = df2019.fillna(df2019.mean())\n",
    "df2020= pd.read_csv(r'C:\\Users\\malav\\OneDrive\\Documents\\internship\\NTRS_GROUP7\\Exchange_Rate_Report_2020.csv')\n",
    "df2020 = df2020.fillna(df2020.mean())\n",
    "df2021= pd.read_csv(r'C:\\Users\\malav\\OneDrive\\Documents\\internship\\NTRS_GROUP7\\Exchange_Rate_Report_2021.csv')\n",
    "df2021= df2021.fillna(df2021.mean())\n",
    "df2022= pd.read_csv(r'C:\\Users\\malav\\OneDrive\\Documents\\internship\\NTRS_GROUP7\\Exchange_Rate_Report_2022.csv')\n",
    "df2022 = df2022.fillna(df2022.mean())"
   ]
  },
  {
   "cell_type": "code",
   "execution_count": 3,
   "metadata": {},
   "outputs": [
    {
     "name": "stderr",
     "output_type": "stream",
     "text": [
      "C:\\Users\\malav\\AppData\\Local\\Temp\\ipykernel_18860\\1308085223.py:1: FutureWarning: The default value of numeric_only in DataFrame.mean is deprecated. In a future version, it will default to False. In addition, specifying 'numeric_only=None' is deprecated. Select only valid columns or specify the value of numeric_only to silence this warning.\n",
      "  d22=df2022.mean().to_frame()\n",
      "C:\\Users\\malav\\AppData\\Local\\Temp\\ipykernel_18860\\1308085223.py:3: FutureWarning: The default value of numeric_only in DataFrame.mean is deprecated. In a future version, it will default to False. In addition, specifying 'numeric_only=None' is deprecated. Select only valid columns or specify the value of numeric_only to silence this warning.\n",
      "  d21=df2021.mean().to_frame()\n",
      "C:\\Users\\malav\\AppData\\Local\\Temp\\ipykernel_18860\\1308085223.py:5: FutureWarning: The default value of numeric_only in DataFrame.mean is deprecated. In a future version, it will default to False. In addition, specifying 'numeric_only=None' is deprecated. Select only valid columns or specify the value of numeric_only to silence this warning.\n",
      "  d20=df2020.mean().to_frame()\n",
      "C:\\Users\\malav\\AppData\\Local\\Temp\\ipykernel_18860\\1308085223.py:7: FutureWarning: The default value of numeric_only in DataFrame.mean is deprecated. In a future version, it will default to False. In addition, specifying 'numeric_only=None' is deprecated. Select only valid columns or specify the value of numeric_only to silence this warning.\n",
      "  d19=df2019.mean().to_frame()\n",
      "C:\\Users\\malav\\AppData\\Local\\Temp\\ipykernel_18860\\1308085223.py:9: FutureWarning: The default value of numeric_only in DataFrame.mean is deprecated. In a future version, it will default to False. In addition, specifying 'numeric_only=None' is deprecated. Select only valid columns or specify the value of numeric_only to silence this warning.\n",
      "  d18=df2018.mean().to_frame()\n",
      "C:\\Users\\malav\\AppData\\Local\\Temp\\ipykernel_18860\\1308085223.py:11: FutureWarning: The default value of numeric_only in DataFrame.mean is deprecated. In a future version, it will default to False. In addition, specifying 'numeric_only=None' is deprecated. Select only valid columns or specify the value of numeric_only to silence this warning.\n",
      "  d17=df2017.mean().to_frame()\n",
      "C:\\Users\\malav\\AppData\\Local\\Temp\\ipykernel_18860\\1308085223.py:13: FutureWarning: The default value of numeric_only in DataFrame.mean is deprecated. In a future version, it will default to False. In addition, specifying 'numeric_only=None' is deprecated. Select only valid columns or specify the value of numeric_only to silence this warning.\n",
      "  d16=df2016.mean().to_frame()\n",
      "C:\\Users\\malav\\AppData\\Local\\Temp\\ipykernel_18860\\1308085223.py:15: FutureWarning: The default value of numeric_only in DataFrame.mean is deprecated. In a future version, it will default to False. In addition, specifying 'numeric_only=None' is deprecated. Select only valid columns or specify the value of numeric_only to silence this warning.\n",
      "  d15=df2015.mean().to_frame()\n",
      "C:\\Users\\malav\\AppData\\Local\\Temp\\ipykernel_18860\\1308085223.py:17: FutureWarning: The default value of numeric_only in DataFrame.mean is deprecated. In a future version, it will default to False. In addition, specifying 'numeric_only=None' is deprecated. Select only valid columns or specify the value of numeric_only to silence this warning.\n",
      "  d14=df2014.mean().to_frame()\n",
      "C:\\Users\\malav\\AppData\\Local\\Temp\\ipykernel_18860\\1308085223.py:19: FutureWarning: The default value of numeric_only in DataFrame.mean is deprecated. In a future version, it will default to False. In addition, specifying 'numeric_only=None' is deprecated. Select only valid columns or specify the value of numeric_only to silence this warning.\n",
      "  d13=df2013.mean().to_frame()\n",
      "C:\\Users\\malav\\AppData\\Local\\Temp\\ipykernel_18860\\1308085223.py:21: FutureWarning: The default value of numeric_only in DataFrame.mean is deprecated. In a future version, it will default to False. In addition, specifying 'numeric_only=None' is deprecated. Select only valid columns or specify the value of numeric_only to silence this warning.\n",
      "  d12=df2012.mean().to_frame()\n"
     ]
    }
   ],
   "source": [
    "d22=df2022.mean().to_frame()\n",
    "d22=d22.rename(columns={0:\"2022\"})\n",
    "d21=df2021.mean().to_frame()\n",
    "d21=d21.rename(columns={0:\"2021\"})\n",
    "d20=df2020.mean().to_frame()\n",
    "d20=d20.rename(columns={0:\"2020\"})\n",
    "d19=df2019.mean().to_frame()\n",
    "d19=d19.rename(columns={0:\"2019\"})\n",
    "d18=df2018.mean().to_frame()\n",
    "d18=d18.rename(columns={0:\"2018\"})\n",
    "d17=df2017.mean().to_frame()\n",
    "d17=d17.rename(columns={0:\"2017\"})\n",
    "d16=df2016.mean().to_frame()\n",
    "d16=d16.rename(columns={0:\"2016\"})\n",
    "d15=df2015.mean().to_frame()\n",
    "d15=d15.rename(columns={0:\"2015\"})\n",
    "d14=df2014.mean().to_frame()\n",
    "d14=d14.rename(columns={0:\"2014\"})\n",
    "d13=df2013.mean().to_frame()\n",
    "d13=d13.rename(columns={0:\"2013\"})\n",
    "d12=df2012.mean().to_frame()\n",
    "d12=d12.rename(columns={0:\"2012\"})\n",
    "dfy=d12.copy()\n",
    "dfy=dfy.join([d22,d21,d20,d19,d18,d17,d16,d15,d14,d13])\n",
    "dfy=dfy.T\n",
    "dfy['year']=[2022,2021,2020,2019,2018,2017,2016,2015,2014,2013,2012]\n",
    "\n",
    "\n"
   ]
  },
  {
   "cell_type": "code",
   "execution_count": 7,
   "metadata": {},
   "outputs": [],
   "source": [
    "l=[df2012,df2013,df2014,df2015,df2016,df2017,df2018,df2019,df2020,df2021,df2022]"
   ]
  },
  {
   "cell_type": "code",
   "execution_count": 8,
   "metadata": {},
   "outputs": [
    {
     "name": "stdout",
     "output_type": "stream",
     "text": [
      "         0\n",
      "2012  2012\n",
      "2022  2022\n",
      "2021  2021\n",
      "2020  2020\n",
      "2019  2019\n",
      "2018  2018\n",
      "2017  2017\n",
      "2016  2016\n",
      "2015  2015\n",
      "2014  2014\n",
      "2013  2013       Algerian dinar   (DZD)                     \n",
      "2012                                    77.635898\n",
      "2022                                   143.330732\n",
      "2021                                   134.970843\n",
      "2020                                   126.593111\n",
      "2019                                   119.354542\n",
      "2018                                   116.587735\n",
      "2017                                   110.988170\n",
      "2016                                   109.451448\n",
      "2015                                   100.544208\n",
      "2014                                    80.563824\n",
      "2013                                    79.386580\n",
      "\n"
     ]
    }
   ],
   "source": [
    "def yearly(currency):\n",
    "    px=dfy.index.to_frame()\n",
    "    py=dfy.loc[:,[currency]]\n",
    "    return (px,py)\n",
    "x=yearly(\"Algerian dinar   (DZD)                     \")\n",
    "print(x[0],x[1],end=\"\\n\\n\")"
   ]
  },
  {
   "cell_type": "code",
   "execution_count": 9,
   "metadata": {},
   "outputs": [
    {
     "name": "stdout",
     "output_type": "stream",
     "text": [
      "     Mon\n",
      "Mon     \n",
      "Jan  Jan\n",
      "Feb  Feb\n",
      "Mar  Mar\n",
      "Apr  Apr\n",
      "May  May\n",
      "Jun  Jun\n",
      "Jul  Jul\n",
      "Aug  Aug\n",
      "Sep  Sep\n",
      "Oct  Oct\n",
      "Nov  Nov\n",
      "Dec  Dec      Algerian dinar   (DZD)                     \n",
      "Mon                                             \n",
      "Jan                                   132.889889\n",
      "Feb                                   133.131515\n",
      "Mar                                   133.795067\n",
      "Apr                                   133.019256\n",
      "May                                   133.912501\n",
      "Jun                                   134.083935\n",
      "Jul                                   134.903661\n",
      "Aug                                   135.223037\n",
      "Sep                                   136.364273\n",
      "Oct                                   136.798426\n",
      "Nov                                   138.027032\n",
      "Dec                                   138.248978\n"
     ]
    },
    {
     "name": "stderr",
     "output_type": "stream",
     "text": [
      "C:\\Users\\malav\\AppData\\Local\\Temp\\ipykernel_18860\\1942733102.py:6: FutureWarning: The default value of numeric_only in DataFrameGroupBy.mean is deprecated. In a future version, numeric_only will default to False. Either specify numeric_only or select only columns which should be valid for the function.\n",
      "  df=mdf.groupby('Mon',sort=False).mean()\n"
     ]
    }
   ],
   "source": [
    "\n",
    "def monthly(year,currency):\n",
    "    x=(year%100)-12\n",
    "    mdf=l[x]\n",
    "    mdf['Date'] = pd.to_datetime(mdf['Date'])\n",
    "    mdf['Mon'] = mdf['Date'].dt.strftime('%b')\n",
    "    df=mdf.groupby('Mon',sort=False).mean()\n",
    "    px=df.index.to_frame()\n",
    "    py=df.loc[:,[currency]]\n",
    "    return (px,py)\n",
    "\n",
    "x=monthly(2021,\"Algerian dinar   (DZD)                     \")\n",
    "print(x[0],x[1],end=\"\\n\")\n"
   ]
  },
  {
   "cell_type": "code",
   "execution_count": 10,
   "metadata": {},
   "outputs": [
    {
     "name": "stdout",
     "output_type": "stream",
     "text": [
      "     Mon\n",
      "Mon     \n",
      "May  May\n",
      "Jun  Jun\n",
      "Jul  Jul\n",
      "Aug  Aug      Algerian dinar   (DZD)                     \n",
      "Mon                                             \n",
      "May                                   145.379294\n",
      "Jun                                   145.800576\n",
      "Jul                                   145.983688\n",
      "Aug                                   142.749392\n"
     ]
    },
    {
     "name": "stderr",
     "output_type": "stream",
     "text": [
      "C:\\Users\\malav\\AppData\\Local\\Temp\\ipykernel_18860\\3828756449.py:6: FutureWarning: The default value of numeric_only in DataFrameGroupBy.mean is deprecated. In a future version, numeric_only will default to False. Either specify numeric_only or select only columns which should be valid for the function.\n",
      "  df=mdf.groupby('Mon',sort=False).mean()\n"
     ]
    }
   ],
   "source": [
    "def quarterly(year,currency,quarter):\n",
    "    x=(year%100)-12\n",
    "    mdf=l[x]\n",
    "    mdf['Date'] = pd.to_datetime(mdf['Date'])\n",
    "    mdf['Mon'] = mdf['Date'].dt.strftime('%b')\n",
    "    df=mdf.groupby('Mon',sort=False).mean()\n",
    "    if(quarter==1):\n",
    "        df=df.iloc[0:4,:]\n",
    "    elif(quarter==2):\n",
    "        df=df.iloc[4:8,:]\n",
    "    else:\n",
    "        df=df.iloc[8:12,:]\n",
    "    px=df.index.to_frame()\n",
    "    py=df.loc[:,[currency]]\n",
    "    return (px,py)\n",
    "\n",
    "x=quarterly(2022,\"Algerian dinar   (DZD)                     \",2)\n",
    "print(x[0],x[1],end=\"\\n\")"
   ]
  },
  {
   "cell_type": "code",
   "execution_count": 11,
   "metadata": {},
   "outputs": [
    {
     "name": "stdout",
     "output_type": "stream",
     "text": [
      "            weeknumber\n",
      "weeknumber            \n",
      "1.0                1.0\n",
      "2.0                2.0\n",
      "3.0                3.0\n",
      "4.0                4.0\n",
      "5.0                5.0\n",
      "6.0                6.0\n",
      "7.0                7.0\n",
      "8.0                8.0\n",
      "9.0                9.0\n",
      "10.0              10.0\n",
      "11.0              11.0\n",
      "12.0              12.0\n",
      "13.0              13.0\n",
      "14.0              14.0\n",
      "15.0              15.0\n",
      "16.0              16.0\n",
      "17.0              17.0\n",
      "18.0              18.0\n",
      "19.0              19.0\n",
      "20.0              20.0\n",
      "21.0              21.0\n",
      "22.0              22.0\n",
      "23.0              23.0\n",
      "24.0              24.0\n",
      "25.0              25.0\n",
      "26.0              26.0\n",
      "27.0              27.0\n",
      "28.0              28.0\n",
      "29.0              29.0\n",
      "30.0              30.0\n",
      "31.0              31.0\n",
      "32.0              32.0\n",
      "33.0              33.0\n",
      "34.0              34.0             Algerian dinar   (DZD)                     \n",
      "weeknumber                                             \n",
      "1.0                                          132.804769\n",
      "2.0                                          133.112129\n",
      "3.0                                          132.800550\n",
      "4.0                                          132.824240\n",
      "5.0                                          133.496309\n",
      "6.0                                          132.946560\n",
      "7.0                                          133.350929\n",
      "8.0                                          132.632450\n",
      "9.0                                          133.226480\n",
      "10.0                                         133.774140\n",
      "11.0                                         133.945869\n",
      "12.0                                         134.064940\n",
      "13.0                                         133.908400\n",
      "14.0                                         132.782540\n",
      "15.0                                         132.462000\n",
      "16.0                                         132.779140\n",
      "17.0                                         133.798529\n",
      "18.0                                         133.772200\n",
      "19.0                                         134.364106\n",
      "20.0                                         133.724909\n",
      "21.0                                         133.689609\n",
      "22.0                                         133.663875\n",
      "23.0                                         133.674280\n",
      "24.0                                         134.291877\n",
      "25.0                                         134.498236\n",
      "26.0                                         134.667769\n",
      "27.0                                         134.832600\n",
      "28.0                                         134.929140\n",
      "29.0                                         135.032577\n",
      "30.0                                         134.827329\n",
      "31.0                                         134.882349\n",
      "32.0                                         135.435049\n",
      "33.0                                         135.283506\n",
      "34.0                                         135.426600\n"
     ]
    },
    {
     "name": "stderr",
     "output_type": "stream",
     "text": [
      "C:\\Users\\malav\\AppData\\Local\\Temp\\ipykernel_18860\\3664736228.py:4: FutureWarning: Series.dt.weekofyear and Series.dt.week have been deprecated. Please use Series.dt.isocalendar().week instead.\n",
      "  dfw[\"weeknumber\"]=df2022[\"Date\"].dt.week\n",
      "C:\\Users\\malav\\AppData\\Local\\Temp\\ipykernel_18860\\3664736228.py:5: FutureWarning: The default value of numeric_only in DataFrameGroupBy.mean is deprecated. In a future version, numeric_only will default to False. Either specify numeric_only or select only columns which should be valid for the function.\n",
      "  df=dfw.groupby(\"weeknumber\",sort=False).mean()\n"
     ]
    }
   ],
   "source": [
    "def weekly(year,currency):\n",
    "    x=(year%100)-12\n",
    "    dfw=l[x].copy()\n",
    "    dfw[\"weeknumber\"]=df2022[\"Date\"].dt.week\n",
    "    df=dfw.groupby(\"weeknumber\",sort=False).mean()\n",
    "\n",
    "    px=df.index.to_frame()\n",
    "    py=df.loc[:,[currency]]\n",
    "\n",
    "    return (px,py)\n",
    "x=weekly(2021,\"Algerian dinar   (DZD)                     \")\n",
    "print(x[0],x[1])"
   ]
  }
 ],
 "metadata": {
  "kernelspec": {
   "display_name": "Python 3.10.3 64-bit",
   "language": "python",
   "name": "python3"
  },
  "language_info": {
   "codemirror_mode": {
    "name": "ipython",
    "version": 3
   },
   "file_extension": ".py",
   "mimetype": "text/x-python",
   "name": "python",
   "nbconvert_exporter": "python",
   "pygments_lexer": "ipython3",
   "version": "3.10.3"
  },
  "orig_nbformat": 4,
  "vscode": {
   "interpreter": {
    "hash": "4d0a8166a156459055e4efc324cfb70b362f169d8f15e9e18f314112503c6aba"
   }
  }
 },
 "nbformat": 4,
 "nbformat_minor": 2
}
