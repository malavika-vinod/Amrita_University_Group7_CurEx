{
 "cells": [
  {
   "cell_type": "code",
   "execution_count": 51,
   "metadata": {},
   "outputs": [],
   "source": [
    "import numpy as np\n",
    "import pandas as pd\n",
    "import matplotlib.pyplot as plt\n",
    "import seaborn as sns"
   ]
  },
  {
   "cell_type": "code",
   "execution_count": 52,
   "metadata": {},
   "outputs": [
    {
     "name": "stderr",
     "output_type": "stream",
     "text": [
      "C:\\Users\\malav\\AppData\\Local\\Temp\\ipykernel_15620\\2024860307.py:2: FutureWarning: The default value of numeric_only in DataFrame.mean is deprecated. In a future version, it will default to False. In addition, specifying 'numeric_only=None' is deprecated. Select only valid columns or specify the value of numeric_only to silence this warning.\n",
      "  df2012 = df2012.fillna(df2012.mean())\n",
      "C:\\Users\\malav\\AppData\\Local\\Temp\\ipykernel_15620\\2024860307.py:4: FutureWarning: The default value of numeric_only in DataFrame.mean is deprecated. In a future version, it will default to False. In addition, specifying 'numeric_only=None' is deprecated. Select only valid columns or specify the value of numeric_only to silence this warning.\n",
      "  df2013 = df2013.fillna(df2013.mean())\n",
      "C:\\Users\\malav\\AppData\\Local\\Temp\\ipykernel_15620\\2024860307.py:6: FutureWarning: The default value of numeric_only in DataFrame.mean is deprecated. In a future version, it will default to False. In addition, specifying 'numeric_only=None' is deprecated. Select only valid columns or specify the value of numeric_only to silence this warning.\n",
      "  df2014 = df2014.fillna(df2014.mean())\n",
      "C:\\Users\\malav\\AppData\\Local\\Temp\\ipykernel_15620\\2024860307.py:8: FutureWarning: The default value of numeric_only in DataFrame.mean is deprecated. In a future version, it will default to False. In addition, specifying 'numeric_only=None' is deprecated. Select only valid columns or specify the value of numeric_only to silence this warning.\n",
      "  df2015 = df2015.fillna(df2015.mean())\n",
      "C:\\Users\\malav\\AppData\\Local\\Temp\\ipykernel_15620\\2024860307.py:10: FutureWarning: The default value of numeric_only in DataFrame.mean is deprecated. In a future version, it will default to False. In addition, specifying 'numeric_only=None' is deprecated. Select only valid columns or specify the value of numeric_only to silence this warning.\n",
      "  df2016 = df2016.fillna(df2016.mean())\n",
      "C:\\Users\\malav\\AppData\\Local\\Temp\\ipykernel_15620\\2024860307.py:12: FutureWarning: The default value of numeric_only in DataFrame.mean is deprecated. In a future version, it will default to False. In addition, specifying 'numeric_only=None' is deprecated. Select only valid columns or specify the value of numeric_only to silence this warning.\n",
      "  df2017 = df2017.fillna(df2017.mean())\n",
      "C:\\Users\\malav\\AppData\\Local\\Temp\\ipykernel_15620\\2024860307.py:14: FutureWarning: The default value of numeric_only in DataFrame.mean is deprecated. In a future version, it will default to False. In addition, specifying 'numeric_only=None' is deprecated. Select only valid columns or specify the value of numeric_only to silence this warning.\n",
      "  df2018 = df2018.fillna(df2018.mean())\n"
     ]
    },
    {
     "name": "stdout",
     "output_type": "stream",
     "text": [
      "Date\n",
      "Algerian dinar   (DZD)                     \n",
      "Australian dollar   (AUD)                     \n",
      "Bahrain dinar   (BHD)                     \n",
      "Bolivar Fuerte   (VEF)                     \n",
      "Botswana pula   (BWP)                     \n",
      "Brazilian real   (BRL)                     \n",
      "Brunei dollar   (BND)                     \n",
      "Canadian dollar   (CAD)                     \n",
      "Chilean peso   (CLP)                     \n",
      "Chinese yuan   (CNY)                     \n",
      "Colombian peso   (COP)                     \n",
      "Czech koruna   (CZK)                     \n",
      "Danish krone   (DKK)                     \n",
      "Euro   (EUR)                     \n",
      "Hungarian forint   (HUF)                     \n",
      "Icelandic krona   (ISK)                     \n",
      "Indian rupee   (INR)                     \n",
      "Indonesian rupiah   (IDR)                     \n",
      "Iranian rial   (IRR)                     \n",
      "Israeli New Shekel   (ILS)                     \n",
      "Japanese yen   (JPY)                     \n",
      "Kazakhstani tenge   (KZT)                     \n",
      "Korean won   (KRW)                     \n",
      "Kuwaiti dinar   (KWD)                     \n",
      "Libyan dinar   (LYD)                     \n",
      "Malaysian ringgit   (MYR)                     \n",
      "Mauritian rupee   (MUR)                     \n",
      "Mexican peso   (MXN)                     \n",
      "Nepalese rupee   (NPR)                     \n",
      "New Zealand dollar   (NZD)                     \n",
      "Norwegian krone   (NOK)                     \n",
      "Omani rial   (OMR)                     \n",
      "Pakistani rupee   (PKR)                     \n",
      "Peruvian sol   (PEN)                     \n",
      "Philippine peso   (PHP)                     \n",
      "Polish zloty   (PLN)                     \n",
      "Qatari riyal   (QAR)                     \n",
      "Russian ruble   (RUB)                     \n",
      "Saudi Arabian riyal   (SAR)                     \n",
      "Singapore dollar   (SGD)                     \n",
      "South African rand   (ZAR)                     \n",
      "Sri Lankan rupee   (LKR)                     \n",
      "Swedish krona   (SEK)                     \n",
      "Swiss franc   (CHF)                     \n",
      "Thai baht   (THB)                     \n",
      "Trinidadian dollar   (TTD)                     \n",
      "Tunisian dinar   (TND)                     \n",
      "U.A.E. dirham   (AED)                     \n",
      "U.K. pound   (GBP)                     \n",
      "U.S. dollar   (USD)                     \n",
      "Uruguayan peso   (UYU)                     \n"
     ]
    },
    {
     "name": "stderr",
     "output_type": "stream",
     "text": [
      "C:\\Users\\malav\\AppData\\Local\\Temp\\ipykernel_15620\\2024860307.py:16: FutureWarning: The default value of numeric_only in DataFrame.mean is deprecated. In a future version, it will default to False. In addition, specifying 'numeric_only=None' is deprecated. Select only valid columns or specify the value of numeric_only to silence this warning.\n",
      "  df2019 = df2019.fillna(df2019.mean())\n",
      "C:\\Users\\malav\\AppData\\Local\\Temp\\ipykernel_15620\\2024860307.py:18: FutureWarning: The default value of numeric_only in DataFrame.mean is deprecated. In a future version, it will default to False. In addition, specifying 'numeric_only=None' is deprecated. Select only valid columns or specify the value of numeric_only to silence this warning.\n",
      "  df2020 = df2020.fillna(df2020.mean())\n",
      "C:\\Users\\malav\\AppData\\Local\\Temp\\ipykernel_15620\\2024860307.py:20: FutureWarning: The default value of numeric_only in DataFrame.mean is deprecated. In a future version, it will default to False. In addition, specifying 'numeric_only=None' is deprecated. Select only valid columns or specify the value of numeric_only to silence this warning.\n",
      "  df2021= df2021.fillna(df2021.mean())\n",
      "C:\\Users\\malav\\AppData\\Local\\Temp\\ipykernel_15620\\2024860307.py:22: FutureWarning: The default value of numeric_only in DataFrame.mean is deprecated. In a future version, it will default to False. In addition, specifying 'numeric_only=None' is deprecated. Select only valid columns or specify the value of numeric_only to silence this warning.\n",
      "  df2022 = df2022.fillna(df2022.mean())\n"
     ]
    }
   ],
   "source": [
    "df2012= pd.read_csv(r'C:\\Users\\malav\\OneDrive\\Documents\\internship\\NTRS_GROUP7\\Exchange_Rate_Report_2012.csv')\n",
    "df2012 = df2012.fillna(df2012.mean())\n",
    "df2013= pd.read_csv(r'C:\\Users\\malav\\OneDrive\\Documents\\internship\\NTRS_GROUP7\\Exchange_Rate_Report_2013.csv')\n",
    "df2013 = df2013.fillna(df2013.mean())\n",
    "df2014= pd.read_csv(r'C:\\Users\\malav\\OneDrive\\Documents\\internship\\NTRS_GROUP7\\Exchange_Rate_Report_2014.csv')\n",
    "df2014 = df2014.fillna(df2014.mean())\n",
    "df2015= pd.read_csv(r'C:\\Users\\malav\\OneDrive\\Documents\\internship\\NTRS_GROUP7\\Exchange_Rate_Report_2015.csv')\n",
    "df2015 = df2015.fillna(df2015.mean())\n",
    "df2016= pd.read_csv(r'C:\\Users\\malav\\OneDrive\\Documents\\internship\\NTRS_GROUP7\\Exchange_Rate_Report_2016.csv')\n",
    "df2016 = df2016.fillna(df2016.mean())\n",
    "df2017= pd.read_csv(r'C:\\Users\\malav\\OneDrive\\Documents\\internship\\NTRS_GROUP7\\Exchange_Rate_Report_2017.csv')\n",
    "df2017 = df2017.fillna(df2017.mean())\n",
    "df2018= pd.read_csv(r'C:\\Users\\malav\\OneDrive\\Documents\\internship\\NTRS_GROUP7\\Exchange_Rate_Report_2018.csv')\n",
    "df2018 = df2018.fillna(df2018.mean())\n",
    "df2019= pd.read_csv(r'C:\\Users\\malav\\OneDrive\\Documents\\internship\\NTRS_GROUP7\\Exchange_Rate_Report_2019.csv')\n",
    "df2019 = df2019.fillna(df2019.mean())\n",
    "df2020= pd.read_csv(r'C:\\Users\\malav\\OneDrive\\Documents\\internship\\NTRS_GROUP7\\Exchange_Rate_Report_2020.csv')\n",
    "df2020 = df2020.fillna(df2020.mean())\n",
    "df2021= pd.read_csv(r'C:\\Users\\malav\\OneDrive\\Documents\\internship\\NTRS_GROUP7\\Exchange_Rate_Report_2021.csv')\n",
    "df2021= df2021.fillna(df2021.mean())\n",
    "df2022= pd.read_csv(r'C:\\Users\\malav\\OneDrive\\Documents\\internship\\NTRS_GROUP7\\Exchange_Rate_Report_2022.csv')\n",
    "df2022 = df2022.fillna(df2022.mean())\n",
    "for i in df2012.columns:\n",
    "    print(i)"
   ]
  },
  {
   "cell_type": "code",
   "execution_count": 53,
   "metadata": {},
   "outputs": [],
   "source": [
    "cur=['Algerian dinar   (DZD)                     ',\n",
    "       'Australian dollar   (AUD)                     ',\n",
    "       'Bahrain dinar   (BHD)                     ',\n",
    "       'Bolivar Fuerte   (VEF)                     ',\n",
    "       'Botswana pula   (BWP)                     ',\n",
    "       'Brazilian real   (BRL)                     ',\n",
    "       'Brunei dollar   (BND)                     ',\n",
    "       'Canadian dollar   (CAD)                     ',\n",
    "       'Chilean peso   (CLP)                     ',\n",
    "       'Chinese yuan   (CNY)                     ',\n",
    "       'Colombian peso   (COP)                     ',\n",
    "       'Czech koruna   (CZK)                     ',\n",
    "       'Danish krone   (DKK)                     ',\n",
    "       'Euro   (EUR)                     ',\n",
    "       'Hungarian forint   (HUF)                     ',\n",
    "       'Icelandic krona   (ISK)                     ',\n",
    "       'Indian rupee   (INR)                     ',\n",
    "       'Indonesian rupiah   (IDR)                     ',\n",
    "       'Iranian rial   (IRR)                     ',\n",
    "       'Israeli New Shekel   (ILS)                     ',\n",
    "       'Japanese yen   (JPY)                     ',\n",
    "       'Kazakhstani tenge   (KZT)                     ',\n",
    "       'Korean won   (KRW)                     ',\n",
    "       'Kuwaiti dinar   (KWD)                     ',\n",
    "       'Libyan dinar   (LYD)                     ','Malaysian ringgit   (MYR)                     ',\n",
    "'Mauritian rupee   (MUR)                     ',\n",
    "'Mexican peso   (MXN)                     ',\n",
    "'Nepalese rupee   (NPR)                     ',\n",
    "'New Zealand dollar   (NZD)                     ',\n",
    "'Norwegian krone   (NOK)                     ',\n",
    "'Omani rial   (OMR)                     ',\n",
    "'Pakistani rupee   (PKR)                     ',\n",
    "'Peruvian sol   (PEN)                     ',\n",
    "'Philippine peso   (PHP)                     ',\n",
    "'Polish zloty   (PLN)                     ',\n",
    "'Qatari riyal   (QAR)                     ',\n",
    "'Russian ruble   (RUB)                     ',\n",
    "'Saudi Arabian riyal   (SAR)                     ',\n",
    "'Singapore dollar   (SGD)                     ',\n",
    "'South African rand   (ZAR)                     ',\n",
    "'Sri Lankan rupee   (LKR)                     ',\n",
    "'Swedish krona   (SEK)                     ',\n",
    "'Swiss franc   (CHF)                     ',\n",
    "'Thai baht   (THB)                     ',\n",
    "'Trinidadian dollar   (TTD)                     ',\n",
    "'Tunisian dinar   (TND)                     ',\n",
    "'U.A.E. dirham   (AED)                     ',\n",
    "'U.K. pound   (GBP)                     ',\n",
    "'U.S. dollar   (USD)                     ',\n",
    "'Uruguayan peso   (UYU)                     ']\n",
    " "
   ]
  },
  {
   "cell_type": "code",
   "execution_count": 54,
   "metadata": {},
   "outputs": [
    {
     "name": "stderr",
     "output_type": "stream",
     "text": [
      "C:\\Users\\malav\\AppData\\Local\\Temp\\ipykernel_15620\\1308085223.py:1: FutureWarning: The default value of numeric_only in DataFrame.mean is deprecated. In a future version, it will default to False. In addition, specifying 'numeric_only=None' is deprecated. Select only valid columns or specify the value of numeric_only to silence this warning.\n",
      "  d22=df2022.mean().to_frame()\n",
      "C:\\Users\\malav\\AppData\\Local\\Temp\\ipykernel_15620\\1308085223.py:3: FutureWarning: The default value of numeric_only in DataFrame.mean is deprecated. In a future version, it will default to False. In addition, specifying 'numeric_only=None' is deprecated. Select only valid columns or specify the value of numeric_only to silence this warning.\n",
      "  d21=df2021.mean().to_frame()\n",
      "C:\\Users\\malav\\AppData\\Local\\Temp\\ipykernel_15620\\1308085223.py:5: FutureWarning: The default value of numeric_only in DataFrame.mean is deprecated. In a future version, it will default to False. In addition, specifying 'numeric_only=None' is deprecated. Select only valid columns or specify the value of numeric_only to silence this warning.\n",
      "  d20=df2020.mean().to_frame()\n",
      "C:\\Users\\malav\\AppData\\Local\\Temp\\ipykernel_15620\\1308085223.py:7: FutureWarning: The default value of numeric_only in DataFrame.mean is deprecated. In a future version, it will default to False. In addition, specifying 'numeric_only=None' is deprecated. Select only valid columns or specify the value of numeric_only to silence this warning.\n",
      "  d19=df2019.mean().to_frame()\n",
      "C:\\Users\\malav\\AppData\\Local\\Temp\\ipykernel_15620\\1308085223.py:9: FutureWarning: The default value of numeric_only in DataFrame.mean is deprecated. In a future version, it will default to False. In addition, specifying 'numeric_only=None' is deprecated. Select only valid columns or specify the value of numeric_only to silence this warning.\n",
      "  d18=df2018.mean().to_frame()\n",
      "C:\\Users\\malav\\AppData\\Local\\Temp\\ipykernel_15620\\1308085223.py:11: FutureWarning: The default value of numeric_only in DataFrame.mean is deprecated. In a future version, it will default to False. In addition, specifying 'numeric_only=None' is deprecated. Select only valid columns or specify the value of numeric_only to silence this warning.\n",
      "  d17=df2017.mean().to_frame()\n",
      "C:\\Users\\malav\\AppData\\Local\\Temp\\ipykernel_15620\\1308085223.py:13: FutureWarning: The default value of numeric_only in DataFrame.mean is deprecated. In a future version, it will default to False. In addition, specifying 'numeric_only=None' is deprecated. Select only valid columns or specify the value of numeric_only to silence this warning.\n",
      "  d16=df2016.mean().to_frame()\n",
      "C:\\Users\\malav\\AppData\\Local\\Temp\\ipykernel_15620\\1308085223.py:15: FutureWarning: The default value of numeric_only in DataFrame.mean is deprecated. In a future version, it will default to False. In addition, specifying 'numeric_only=None' is deprecated. Select only valid columns or specify the value of numeric_only to silence this warning.\n",
      "  d15=df2015.mean().to_frame()\n",
      "C:\\Users\\malav\\AppData\\Local\\Temp\\ipykernel_15620\\1308085223.py:17: FutureWarning: The default value of numeric_only in DataFrame.mean is deprecated. In a future version, it will default to False. In addition, specifying 'numeric_only=None' is deprecated. Select only valid columns or specify the value of numeric_only to silence this warning.\n",
      "  d14=df2014.mean().to_frame()\n",
      "C:\\Users\\malav\\AppData\\Local\\Temp\\ipykernel_15620\\1308085223.py:19: FutureWarning: The default value of numeric_only in DataFrame.mean is deprecated. In a future version, it will default to False. In addition, specifying 'numeric_only=None' is deprecated. Select only valid columns or specify the value of numeric_only to silence this warning.\n",
      "  d13=df2013.mean().to_frame()\n",
      "C:\\Users\\malav\\AppData\\Local\\Temp\\ipykernel_15620\\1308085223.py:21: FutureWarning: The default value of numeric_only in DataFrame.mean is deprecated. In a future version, it will default to False. In addition, specifying 'numeric_only=None' is deprecated. Select only valid columns or specify the value of numeric_only to silence this warning.\n",
      "  d12=df2012.mean().to_frame()\n"
     ]
    }
   ],
   "source": [
    "d22=df2022.mean().to_frame()\n",
    "d22=d22.rename(columns={0:\"2022\"})\n",
    "d21=df2021.mean().to_frame()\n",
    "d21=d21.rename(columns={0:\"2021\"})\n",
    "d20=df2020.mean().to_frame()\n",
    "d20=d20.rename(columns={0:\"2020\"})\n",
    "d19=df2019.mean().to_frame()\n",
    "d19=d19.rename(columns={0:\"2019\"})\n",
    "d18=df2018.mean().to_frame()\n",
    "d18=d18.rename(columns={0:\"2018\"})\n",
    "d17=df2017.mean().to_frame()\n",
    "d17=d17.rename(columns={0:\"2017\"})\n",
    "d16=df2016.mean().to_frame()\n",
    "d16=d16.rename(columns={0:\"2016\"})\n",
    "d15=df2015.mean().to_frame()\n",
    "d15=d15.rename(columns={0:\"2015\"})\n",
    "d14=df2014.mean().to_frame()\n",
    "d14=d14.rename(columns={0:\"2014\"})\n",
    "d13=df2013.mean().to_frame()\n",
    "d13=d13.rename(columns={0:\"2013\"})\n",
    "d12=df2012.mean().to_frame()\n",
    "d12=d12.rename(columns={0:\"2012\"})\n",
    "dfy=d12.copy()\n",
    "dfy=dfy.join([d22,d21,d20,d19,d18,d17,d16,d15,d14,d13])\n",
    "dfy=dfy.T\n",
    "dfy['year']=[2022,2021,2020,2019,2018,2017,2016,2015,2014,2013,2012]\n",
    "\n",
    "\n"
   ]
  },
  {
   "cell_type": "code",
   "execution_count": 55,
   "metadata": {},
   "outputs": [],
   "source": [
    "l=[df2012,df2013,df2014,df2015,df2016,df2017,df2018,df2019,df2020,df2021,df2022]"
   ]
  },
  {
   "cell_type": "code",
   "execution_count": 56,
   "metadata": {},
   "outputs": [],
   "source": [
    "def yearly(currency):\n",
    "    sns.lineplot(data=dfy, x='year', y=currency)\n",
    "    plt.locator_params(axis='x',nbins=11)\n",
    "    plt.locator_params(axis='y',nbins=20)\n",
    "\n"
   ]
  },
  {
   "cell_type": "code",
   "execution_count": 57,
   "metadata": {},
   "outputs": [],
   "source": [
    "\n",
    "def monthly(year,currency):\n",
    "    x=(year%100)-12\n",
    "    mdf=l[x]\n",
    "    mdf['Date'] = pd.to_datetime(mdf['Date'])\n",
    "    mdf['Mon'] = mdf['Date'].dt.strftime('%b')\n",
    "    df=mdf.groupby('Mon',sort=False).mean()\n",
    "    sns.lineplot(data=df, x=\"Mon\", y=currency)\n",
    "\n"
   ]
  },
  {
   "cell_type": "code",
   "execution_count": 58,
   "metadata": {},
   "outputs": [],
   "source": [
    "def quarterly(year,currency,quarter):\n",
    "    x=(year%100)-12\n",
    "    mdf=l[x]\n",
    "    mdf['Date'] = pd.to_datetime(mdf['Date'])\n",
    "    mdf['Mon'] = mdf['Date'].dt.strftime('%b')\n",
    "    df=mdf.groupby('Mon',sort=False).mean()\n",
    "    if(quarter==1):\n",
    "        df=df.iloc[0:3,:]\n",
    "    elif(quarter==2):\n",
    "        df=df.iloc[3:6,:]\n",
    "    elif(quarter==3):\n",
    "        df=df.iloc[6:9,:]\n",
    "    else:\n",
    "        df=df.iloc[9:12,:]\n",
    "    sns.lineplot(data=df, x=\"Mon\", y=currency)\n",
    "\n"
   ]
  },
  {
   "cell_type": "code",
   "execution_count": 60,
   "metadata": {},
   "outputs": [],
   "source": [
    "def weekly(year,currency):\n",
    "    x=(year%100)-12\n",
    "    dfw=l[x].copy()\n",
    "    dfw[\"weeknumber\"]=df2022[\"Date\"].dt.week\n",
    "    df=dfw.groupby(\"weeknumber\",sort=False).mean()\n",
    "    sns.lineplot(data=df, x=\"weeknumber\", y=currency)\n"
   ]
  },
  {
   "cell_type": "code",
   "execution_count": 61,
   "metadata": {},
   "outputs": [],
   "source": [
    "def highestRate(currency):\n",
    "    lis=[]\n",
    "    for i in range(11):\n",
    "        lis.append(l[i][currency].max())\n",
    "    return max(lis)\n"
   ]
  },
  {
   "cell_type": "code",
   "execution_count": 62,
   "metadata": {},
   "outputs": [],
   "source": [
    "def lowestRate(currency):\n",
    "    lis=[]\n",
    "    for i in range(11):\n",
    "        lis.append(l[i][currency].min())\n",
    "    return min(lis)"
   ]
  },
  {
   "cell_type": "code",
   "execution_count": 63,
   "metadata": {},
   "outputs": [],
   "source": [
    "def main():      \n",
    "    x=input(\"\"\"Choose the currency for otaining the exchange rates: \n",
    "    1.Algerian dinar   (DZD)                     \n",
    "    2.Australian dollar   (AUD)                     \n",
    "    3.Bahrain dinar   (BHD)                     \n",
    "    4.Bolivar Fuerte   (VEF)                     \n",
    "    5.Botswana pula   (BWP)                     \n",
    "    6.Brazilian real   (BRL)                     \n",
    "    7.Brunei dollar   (BND)                     \n",
    "    8.Canadian dollar   (CAD)                     \n",
    "    9.Chilean peso   (CLP)                     \n",
    "    10.Chinese yuan   (CNY)                     \n",
    "    11.Colombian peso   (COP)                     \n",
    "    12.Czech koruna   (CZK)                     \n",
    "    13.Danish krone   (DKK)                     \n",
    "    14.Euro   (EUR)                     \n",
    "    15.Hungarian forint   (HUF)                     \n",
    "    16.Icelandic krona   (ISK)                     \n",
    "    17.Indian rupee   (INR)                     \n",
    "    18.Indonesian rupiah   (IDR)                     \n",
    "    19.Iranian rial   (IRR)                     \n",
    "    20.Israeli New Shekel   (ILS)                     \n",
    "    21.Japanese yen   (JPY)                     \n",
    "    22.Kazakhstani tenge   (KZT)                     \n",
    "    23.Korean won   (KRW)                     \n",
    "    24.Kuwaiti dinar   (KWD)                     \n",
    "    25.Libyan dinar   (LYD)                     \n",
    "    26.Malaysian ringgit   (MYR)                     \n",
    "    27.Mauritian rupee   (MUR)                     \n",
    "    28.Mexican peso   (MXN)                     \n",
    "    29.Nepalese rupee   (NPR)                     \n",
    "    30.New Zealand dollar   (NZD)                     \n",
    "    31.Norwegian krone   (NOK)                     \n",
    "    32.Omani rial   (OMR)                     \n",
    "    33.Pakistani rupee   (PKR)                     \n",
    "    34.Peruvian sol   (PEN)                     \n",
    "    35.Philippine peso   (PHP)                     \n",
    "    36.Polish zloty   (PLN)                     \n",
    "    37.Qatari riyal   (QAR)                     \n",
    "    38.Russian ruble   (RUB)                     \n",
    "    39.Saudi Arabian riyal   (SAR)                     \n",
    "    40.Singapore dollar   (SGD)                     \n",
    "    41.South African rand   (ZAR)                     \n",
    "    42.Sri Lankan rupee   (LKR)                     \n",
    "    43.Swedish krona   (SEK)                     \n",
    "    44.Swiss franc   (CHF)                     \n",
    "    45.Thai baht   (THB)                     \n",
    "    46.Trinidadian dollar   (TTD)                     \n",
    "    47.Tunisian dinar   (TND)                     \n",
    "    48.U.A.E. dirham   (AED)                     \n",
    "    49.U.K. pound   (GBP)                     \n",
    "    50.U.S. dollar   (USD)                     \n",
    "    51.Uruguayan peso   (UYU)                     \"\"\")\n",
    "    currency=cur[int(x)-1]\n",
    "    menu=int(input(\"\"\"Select the analysis type:\n",
    "    1.Yearly\n",
    "    2.Monthly\n",
    "    3.Quarterly\n",
    "    4.weekly\"\"\"))\n",
    "    if menu==1:\n",
    "        yearly(currency)\n",
    "    elif menu==2:\n",
    "        yyear=int(input(\"Enter the year: \"))\n",
    "        monthly(yyear,currency)\n",
    "    elif menu==3:\n",
    "        yyear=int(input(\"Enter the year: \"))\n",
    "        q=int(input(\"Enter the quarter(1st/2nd/3rd/4th): \"))\n",
    "        quarterly(yyear,currency,q)\n",
    "    elif menu==4:\n",
    "        yyear=int(input(\"Enter the year: \"))\n",
    "        weekly(yyear,currency)\n",
    "    else:\n",
    "        print(\"Invalid input\")\n",
    "    print(\"Highest rate of this currency observed: \",highestRate(currency))\n",
    "    print(\"Lowest rate of this currency observed: \",lowestRate(currency))\n"
   ]
  },
  {
   "cell_type": "code",
   "execution_count": 64,
   "metadata": {},
   "outputs": [
    {
     "name": "stdout",
     "output_type": "stream",
     "text": [
      "Highest rate of this currency observed:  36.84\n",
      "Lowest rate of this currency observed:  28.66\n"
     ]
    },
    {
     "data": {
      "image/png": "[encoded data removed]",
      "text/plain": [
       "<Figure size 640x480 with 1 Axes>"
      ]
     },
     "metadata": {},
     "output_type": "display_data"
    }
   ],
   "source": [
    "if __name__ == \"__main__\":\n",
    "  main()"
   ]
  }
 ],
 "metadata": {
  "kernelspec": {
   "display_name": "Python 3.10.3 64-bit",
   "language": "python",
   "name": "python3"
  },
  "language_info": {
   "codemirror_mode": {
    "name": "ipython",
    "version": 3
   },
   "file_extension": ".py",
   "mimetype": "text/x-python",
   "name": "python",
   "nbconvert_exporter": "python",
   "pygments_lexer": "ipython3",
   "version": "3.10.3"
  },
  "orig_nbformat": 4,
  "vscode": {
   "interpreter": {
    "hash": "4d0a8166a156459055e4efc324cfb70b362f169d8f15e9e18f314112503c6aba"
   }
  }
 },
 "nbformat": 4,
 "nbformat_minor": 2
}
